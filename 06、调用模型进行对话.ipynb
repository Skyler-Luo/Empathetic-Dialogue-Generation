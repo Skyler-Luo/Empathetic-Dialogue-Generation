{
 "cells": [
  {
   "cell_type": "markdown",
   "metadata": {},
   "source": [
    "## EmpDG 交互式对话示例\n",
    "\n",
    "下面演示如何在 Notebook 中加载已训练好的共情对话模型，并与之进行实时对话。"
   ]
  },
  {
   "cell_type": "code",
   "execution_count": 1,
   "metadata": {},
   "outputs": [
    {
     "name": "stdout",
     "output_type": "stream",
     "text": [
      "================================================================================\n",
      "                                      Opts                                      \n",
      "--------------------------------------------------------------------------------\n",
      "                                dataset: empathetic                             \n",
      "                             hidden_dim: 300                                    \n",
      "                                emb_dim: 300                                    \n",
      "                             batch_size: 16                                     \n",
      "                                 epochs: 10                                     \n",
      "                                     lr: 0.0001                                 \n",
      "                          max_grad_norm: 2.0                                    \n",
      "                              beam_size: 5                                      \n",
      "                              save_path: save/EmpDG/                            \n",
      "                      save_path_dataset: save/                                  \n",
      "                            resume_path: result/                                \n",
      "                              device_id: 0                                      \n",
      "                                dropout: 0.2                                    \n",
      "                            pointer_gen: 1                                      \n",
      "                          teacher_ratio: 1.0                                    \n",
      "                           pretrain_emb: 1                                      \n",
      "                                  model: EmpDG                                  \n",
      "                        label_smoothing: 1                                      \n",
      "                                   noam: 1                                      \n",
      "                        act_loss_weight: 0.001                                  \n",
      "                               emb_file: ./vectors/glove.6B.300d.txt            \n",
      "                                    hop: 1                                      \n",
      "                                  heads: 2                                      \n",
      "                                  depth: 40                                     \n",
      "                                 filter: 50                                     \n",
      "                              gp_lambda: 0.1                                    \n",
      "                         rnn_hidden_dim: 300                                    \n",
      "                                d_steps: 1                                      \n",
      "                                g_steps: 1                                      \n",
      "                          adver_itr_num: 5000                                   \n",
      "================================================================================\n",
      "['e:\\\\Study\\\\Programs\\\\Anaconda3\\\\envs\\\\empdg\\\\python38.zip', 'e:\\\\Study\\\\Programs\\\\Anaconda3\\\\envs\\\\empdg\\\\DLLs', 'e:\\\\Study\\\\Programs\\\\Anaconda3\\\\envs\\\\empdg\\\\lib', 'e:\\\\Study\\\\Programs\\\\Anaconda3\\\\envs\\\\empdg', '', 'C:\\\\Users\\\\惠普\\\\AppData\\\\Roaming\\\\Python\\\\Python38\\\\site-packages', 'e:\\\\Study\\\\Programs\\\\Anaconda3\\\\envs\\\\empdg\\\\lib\\\\site-packages', 'e:\\\\Study\\\\Programs\\\\Anaconda3\\\\envs\\\\empdg\\\\lib\\\\site-packages\\\\win32', 'e:\\\\Study\\\\Programs\\\\Anaconda3\\\\envs\\\\empdg\\\\lib\\\\site-packages\\\\win32\\\\lib', 'e:\\\\Study\\\\Programs\\\\Anaconda3\\\\envs\\\\empdg\\\\lib\\\\site-packages\\\\Pythonwin', 'e:\\\\Study\\\\Programs\\\\Anaconda3\\\\envs\\\\empdg\\\\lib\\\\site-packages\\\\setuptools\\\\_vendor', '/apdcephfs/share_916081/qtli/install/ft_local/EmpDG']\n"
     ]
    }
   ],
   "source": [
    "# 导入必要库\n",
    "import sys\n",
    "# sys.argv = ['', '--model', 'EmpDG', '--cuda', '--label_smoothing', '--noam', '--emb_dim', '300', '--rnn_hidden_dim', '300', '--hidden_dim', '300', '--hop', '1', '--heads', '2', '--pretrain_emb', '--device_id', '0', '--save_path', 'results/tb_results/EmpDG/', '--pointer_gen', '--emb_file', './vectors/glove.6B.300d.txt']\n",
    "sys.argv = ['', '--model', 'EmpDG', '--label_smoothing', '--noam', '--emb_dim', '300', '--rnn_hidden_dim', '300', '--hidden_dim', '300', '--hop', '1', '--heads', '2', '--pretrain_emb', '--device_id', '0', '--save_path', 'results/tb_results/EmpDG/', '--pointer_gen', '--emb_file', './vectors/glove.6B.300d.txt']\n",
    "import torch\n",
    "import nltk\n",
    "from collections import deque\n",
    "from utils import config\n",
    "from utils.data_loader import prepare_data_seq\n",
    "from utils.data_reader import Lang\n",
    "from Model.transformer import Transformer\n",
    "from Model.EmoPrepend import EmoP\n",
    "from Model.EmpDG_G import EmpDG_G\n",
    "from interact import make_batch"
   ]
  },
  {
   "cell_type": "code",
   "execution_count": 2,
   "metadata": {},
   "outputs": [
    {
     "name": "stdout",
     "output_type": "stream",
     "text": [
      "LOADING empathetic_dialogue ...\n"
     ]
    },
    {
     "name": "stderr",
     "output_type": "stream",
     "text": [
      "08-11 15:49 Vocab  22359 \n"
     ]
    },
    {
     "name": "stdout",
     "output_type": "stream",
     "text": [
      "[situation]: i spent all weekend working on my truck to fix a miss in the engine . despite spending over $ 200 in parts , it did not do a thing to fix the miss .\n",
      "[emotion]: angry\n",
      "[context]: ['i worked on my truck all weekend . spent $ 215 on parts and a special tool . still did not fix the miss in the engine .']\n",
      "[emotion context]: truck spent parts special fix miss engine\n",
      "[target]: what is the problem with the engine ?\n",
      "[feedback]: it has a miss . sometimes when you are driving it sputters and jerks and barely has any power . other times it drives just fine . i have replaced so many things on it and nothing makes a difference for very long .\n",
      " \n",
      "[situation]: a few years ago , my marriage broke up , and i found myself living alone for the first time in my life . though i eventually grew accustomed to the solitude , it took a while to get used to it .\n",
      "[emotion]: lonely\n",
      "[context]: ['i found myself divorced a few years ago , and for the first time in my life , i was living alone .']\n",
      "[emotion context]: found years ago first time life living\n",
      "[target]: i felt sad and depressed due to my insecurities and felt rejected from society\n",
      "[feedback]: yes , i felt that way for a while . but then i grew used to the solitude .\n",
      " \n",
      "[situation]: i felt proud when i had accomplished a dream that i wanted to do for a long time .\n",
      "[emotion]: proud\n",
      "[context]: ['i felt proud when i had accomplished a dream that i wanted to do for a long time . it was absailing ! !']\n",
      "[emotion context]: felt proud accomplished dream long time\n",
      "[target]: i am not familiar with abseiling , but i am glad that you felt good about it .\n",
      "[feedback]: absailing , its when you rappeling down a building . what have you down that amazing ?\n",
      " \n",
      "train length:  20724\n",
      "valid length:  2972\n",
      "test length:  2713\n",
      "Embeddings: 22359 x 300\n",
      "Loading embedding file: ./vectors/glove.6B.300d.txt\n",
      "Pre-trained: 18064 (80.79%)\n",
      "EmpDG 模型加载完毕，开始交互。\n"
     ]
    },
    {
     "name": "stderr",
     "output_type": "stream",
     "text": [
      "C:\\Temp\\ipykernel_30600\\508385477.py:17: FutureWarning: You are using `torch.load` with `weights_only=False` (the current default value), which uses the default pickle module implicitly. It is possible to construct malicious pickle data which will execute arbitrary code during unpickling (See https://github.com/pytorch/pytorch/blob/main/SECURITY.md#untrusted-models for more details). In a future release, the default value for `weights_only` will be flipped to `True`. This limits the functions that could be executed during unpickling. Arbitrary objects will no longer be allowed to be loaded via this mode unless they are explicitly allowlisted by the user via `torch.serialization.add_safe_globals`. We recommend you start setting `weights_only=True` for any use case where you don't have full control of the loaded file. Please open an issue on GitHub for any issues related to this experimental feature.\n",
      "  ckpt = torch.load(f\"result/{model_name}_best.tar\", map_location=lambda s, t: s)\n"
     ]
    }
   ],
   "source": [
    "# 加载数据和模型\n",
    "model_name = \"EmpDG\"   # 可替换为 \"Transformer\", \"EmoPrepend\", \"EmpDG_woG\" 等\n",
    "\n",
    "# 准备数据迭代器和词表\n",
    "data_loader_tr, data_loader_val, data_loader_tst, vocab, program_number = \\\n",
    "    prepare_data_seq(batch_size=config.batch_size)\n",
    "\n",
    "# 构造模型实例\n",
    "if model_name == \"Transformer\":\n",
    "    model = Transformer(vocab, decoder_number=program_number)\n",
    "elif model_name in (\"EmoPrepend\", \"EmpDG_woG\"):\n",
    "    model = EmoP(vocab, decoder_number=program_number)\n",
    "else:  # EmpDG 或 EmpDG_woD\n",
    "    model = EmpDG_G(vocab, emotion_number=program_number)\n",
    "\n",
    "# 加载checkpoint\n",
    "ckpt = torch.load(f\"result/{model_name}_best.tar\", map_location=lambda s, t: s)\n",
    "if model_name in (\"EmpDG\", \"EmpDG_woG\"):\n",
    "    weights = ckpt[\"models_g\"]\n",
    "else:\n",
    "    weights = ckpt[\"models\"]\n",
    "model.load_state_dict({k: weights[k] for k in weights})\n",
    "model.to(config.device)\n",
    "model.eval()\n",
    "print(f\"{model_name} 模型加载完毕，开始交互。\")"
   ]
  },
  {
   "cell_type": "code",
   "execution_count": 3,
   "metadata": {},
   "outputs": [
    {
     "name": "stdout",
     "output_type": "stream",
     "text": [
      "输入'q'退出对话。\n",
      "EmpDG: hi \n",
      "EmpDG: oh wow , i am so happy for you ! \n",
      "EmpDG: i am so sorry . i am so sorry . i am not a fan of a few years ago . \n",
      "退出对话。\n"
     ]
    }
   ],
   "source": [
    "# 定义对话函数\n",
    "DIALOG_SIZE = 5\n",
    "context = deque([\"None\"] * DIALOG_SIZE, maxlen=DIALOG_SIZE)\n",
    "\n",
    "def chat_once(usr_utt: str) -> str:\n",
    "    \"\"\"向模型发送一句话，返回模型回复。\"\"\"\n",
    "    context.append(usr_utt)\n",
    "    batch = make_batch(context, vocab)\n",
    "    reply = model.decoder_greedy(batch, max_dec_step=100)[0]\n",
    "    context.append(reply)\n",
    "    return reply\n",
    "\n",
    "# 进入对话循环\n",
    "print(\"输入'q'退出对话。\")\n",
    "while True:\n",
    "    usr = input(\">> User: \").strip()\n",
    "    if usr.lower() == 'q':\n",
    "        print(\"退出对话。\")\n",
    "        break\n",
    "    resp = chat_once(usr)\n",
    "    print(f\"{model_name}: {resp}\")"
   ]
  }
 ],
 "metadata": {
  "kernelspec": {
   "display_name": "empdg",
   "language": "python",
   "name": "python3"
  },
  "language_info": {
   "codemirror_mode": {
    "name": "ipython",
    "version": 3
   },
   "file_extension": ".py",
   "mimetype": "text/x-python",
   "name": "python",
   "nbconvert_exporter": "python",
   "pygments_lexer": "ipython3",
   "version": "3.8.20"
  }
 },
 "nbformat": 4,
 "nbformat_minor": 2
}
